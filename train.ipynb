{
 "cells": [
  {
   "cell_type": "code",
   "execution_count": null,
   "metadata": {},
   "outputs": [],
   "source": [
    "# Import libraries and intall the requirements\n",
    "!pip install -r requirements.txt\n",
    "import pandas as pd\n",
    "import numpy as np\n",
    "import matplotlib.pyplot as plt\n",
    "import seaborn as sns\n",
    "from sklearn.preprocessing import LabelEncoder"
   ]
  },
  {
   "cell_type": "code",
   "execution_count": null,
   "metadata": {},
   "outputs": [],
   "source": [
    "# Data read\n",
    "train = pd.read_csv(\"train.csv\")\n",
    "test = pd.read_csv(\"test.csv\")"
   ]
  },
  {
   "cell_type": "code",
   "execution_count": null,
   "metadata": {},
   "outputs": [],
   "source": [
    "# Frequency and percentage of No-show values\n",
    "fig, axs = plt.subplots(1,2,figsize=(14,7))\n",
    "sns.countplot(y='No-show',data=train,ax=axs[0])\n",
    "axs[0].set_title(\"Frequency of No-show values\")\n",
    "train['No-show'].value_counts().plot(x=None,y=None, kind='pie', ax=axs[1],autopct='%1.2f%%')\n",
    "axs[1].set_title(\"Percentage of No-show values\")\n",
    "plt.show()"
   ]
  },
  {
   "cell_type": "code",
   "execution_count": null,
   "metadata": {},
   "outputs": [],
   "source": [
    "# Remove ID columns\n",
    "train = train.drop(['PatientId','AppointmentID'], axis=1)\n",
    "test = test.drop(['PatientId','AppointmentID'], axis=1)"
   ]
  },
  {
   "cell_type": "code",
   "execution_count": null,
   "metadata": {},
   "outputs": [],
   "source": [
    "# Type change into object\n",
    "train['Scholarship'] = train['Scholarship'].astype('object')\n",
    "train['Hipertension'] = train['Hipertension'].astype('object')\n",
    "train['Diabetes'] = train['Diabetes'].astype('object')\n",
    "train['Alcoholism'] = train['Alcoholism'].astype('object')\n",
    "train['Handcap'] = train['Handcap'].astype('object')\n",
    "train['SMS_received'] = train['SMS_received'].astype('object')\n",
    "\n",
    "test['Scholarship'] = test['Scholarship'].astype('object')\n",
    "test['Hipertension'] = test['Hipertension'].astype('object')\n",
    "test['Diabetes'] = test['Diabetes'].astype('object')\n",
    "test['Alcoholism'] = test['Alcoholism'].astype('object')\n",
    "test['Handcap'] = test['Handcap'].astype('object')\n",
    "test['SMS_received'] = test['SMS_received'].astype('object')"
   ]
  },
  {
   "cell_type": "code",
   "execution_count": null,
   "metadata": {},
   "outputs": [],
   "source": [
    "# Type change into date time\n",
    "train['ScheduledDay'] = pd.to_datetime(train['ScheduledDay']).dt.date.astype('datetime64[ns]')\n",
    "train['AppointmentDay'] = pd.to_datetime(train['AppointmentDay']).dt.date.astype('datetime64[ns]')\n",
    "test['ScheduledDay'] = pd.to_datetime(test['ScheduledDay']).dt.date.astype('datetime64[ns]')\n",
    "test['AppointmentDay'] = pd.to_datetime(test['AppointmentDay']).dt.date.astype('datetime64[ns]')"
   ]
  },
  {
   "cell_type": "code",
   "execution_count": null,
   "metadata": {},
   "outputs": [],
   "source": [
    "# Type change test\n",
    "test.info()"
   ]
  },
  {
   "cell_type": "code",
   "execution_count": null,
   "metadata": {},
   "outputs": [],
   "source": [
    "# If the Age is 0 is a baby with not Hipertension, Diabetes or Alcoholism problems\n",
    "train[(train.Age <= 0) & ((train.Hipertension.astype(int) == 1) | (train.Diabetes.astype(int) == 1) | (train.Alcoholism.astype(int) == 1))]"
   ]
  },
  {
   "cell_type": "code",
   "execution_count": null,
   "metadata": {},
   "outputs": [],
   "source": [
    "# Day of the week\n",
    "train['WeekDayOfSchedule'] = train['ScheduledDay'].dt.day_name()\n",
    "train['WeekDayOfAppointment'] = train['AppointmentDay'].dt.day_name()\n",
    "\n",
    "test['WeekDayOfSchedule'] = test['ScheduledDay'].dt.day_name()\n",
    "test['WeekDayOfAppointment'] = test['AppointmentDay'].dt.day_name()"
   ]
  },
  {
   "cell_type": "code",
   "execution_count": null,
   "metadata": {},
   "outputs": [],
   "source": [
    "# Calculating the waiting days\n",
    "train['WaitingDays'] = train['AppointmentDay'] - train['ScheduledDay']\n",
    "train['WaitingDays'] = train['WaitingDays'].dt.days\n",
    "\n",
    "test['WaitingDays'] = test['AppointmentDay'] - test['ScheduledDay']\n",
    "test['WaitingDays'] = test['WaitingDays'].dt.days"
   ]
  },
  {
   "cell_type": "code",
   "execution_count": null,
   "metadata": {},
   "outputs": [],
   "source": [
    "# Time travel not allowed\n",
    "train = train.drop(train[train.WaitingDays < 0].index)\n",
    "test = test.drop(test[test.WaitingDays < 0].index)"
   ]
  },
  {
   "cell_type": "code",
   "execution_count": null,
   "metadata": {},
   "outputs": [],
   "source": [
    "# Rename to assign more significant name to columns\n",
    "train.rename(columns={\"ScheduledDay\": \"ScheduledDate\", \"AppointmentDay\": \"AppointmentDate\"}, inplace=True)\n",
    "test.rename(columns={\"ScheduledDay\": \"ScheduledDate\", \"AppointmentDay\": \"AppointmentDate\"}, inplace=True)"
   ]
  },
  {
   "cell_type": "code",
   "execution_count": null,
   "metadata": {},
   "outputs": [],
   "source": [
    "# Create new column for each date for train\n",
    "train['ScheduledYear'] = train['ScheduledDate'].dt.year\n",
    "train['ScheduledMonth'] = train['ScheduledDate'].dt.month\n",
    "train['ScheduledDay'] = train['ScheduledDate'].dt.day\n",
    "train.drop(['ScheduledDate'], axis=1, inplace=True)\n",
    "\n",
    "train['AppointmentYear'] = train['AppointmentDate'].dt.year\n",
    "train['AppointmentMonth'] = train['AppointmentDate'].dt.month\n",
    "train['AppointmentDay'] = train['AppointmentDate'].dt.day\n",
    "train.drop(['AppointmentDate'], axis=1, inplace=True)\n"
   ]
  },
  {
   "cell_type": "code",
   "execution_count": null,
   "metadata": {},
   "outputs": [],
   "source": [
    "# Create new column for each date for test\n",
    "test['ScheduledYear'] = test['ScheduledDate'].dt.year\n",
    "test['ScheduledMonth'] = test['ScheduledDate'].dt.month\n",
    "test['ScheduledDay'] = test['ScheduledDate'].dt.day\n",
    "test.drop(['ScheduledDate'], axis=1, inplace=True)\n",
    "\n",
    "test['AppointmentYear'] = test['AppointmentDate'].dt.year\n",
    "test['AppointmentMonth'] = test['AppointmentDate'].dt.month\n",
    "test['AppointmentDay'] = test['AppointmentDate'].dt.day\n",
    "test.drop(['AppointmentDate'], axis=1, inplace=True)\n"
   ]
  },
  {
   "cell_type": "code",
   "execution_count": null,
   "metadata": {},
   "outputs": [],
   "source": [
    "# Features correlation\n",
    "fig, ax = plt.subplots(figsize=[12,9])\n",
    "cor = train.corr()\n",
    "mask = np.zeros_like(cor)\n",
    "mask[np.triu_indices_from(mask)] = True\n",
    "cmap = sns.diverging_palette(220, 10, as_cmap=True)\n",
    "ax = sns.heatmap(cor, xticklabels=cor.columns, yticklabels=cor.columns, \n",
    "            annot=True, cmap=cmap, mask=mask);"
   ]
  },
  {
   "cell_type": "code",
   "execution_count": null,
   "metadata": {},
   "outputs": [],
   "source": [
    "# Age division into categories for train\n",
    "#def age_div_train(train) :\n",
    "#    if train[\"Age\"] == 0 :\n",
    "#        return \"Neonati\"\n",
    "#    elif (train[\"Age\"] > 0) & (train[\"Age\"] <= 6 ):\n",
    "#        return \"Seconda infanzia\"\n",
    "#    elif (train[\"Age\"] > 6) & (train[\"Age\"] <= 12 ):\n",
    "#        return \"Terza infanzia\"\n",
    "#    elif (train[\"Age\"] > 12) & (train[\"Age\"] <= 22):\n",
    "#        return \"Adolescenza\"\n",
    "#    elif (train[\"Age\"] > 22) & (train[\"Age\"] <= 39):\n",
    "#        return \"Prima età adulta\"\n",
    "#    elif (train[\"Age\"] > 39) & (train[\"Age\"] <= 59):\n",
    "#        return \"Seconda età adulta\"\n",
    "#    elif (train[\"Age\"] > 59) & (train[\"Age\"] <= 75):\n",
    "#        return \"Terza età\"\n",
    "#    elif (train[\"Age\"] > 75) & (train[\"Age\"] <= 90):\n",
    "#        return \"Quarta età\"\n",
    "#    elif train[\"Age\"] > 90:\n",
    "#        return \"Quinta età\"\n",
    "#train[\"AgeGroup\"] = train.apply(lambda train:age_div_train(train),axis = 1)"
   ]
  },
  {
   "cell_type": "code",
   "execution_count": null,
   "metadata": {},
   "outputs": [],
   "source": [
    "# Age division into categories for test\n",
    "#def age_div_test(test) :\n",
    "#    if test[\"Age\"] == 0 :\n",
    "#        return \"Neonati\"\n",
    "#    elif (test[\"Age\"] > 0) & (test[\"Age\"] <= 6 ):\n",
    "#        return \"Seconda infanzia\"\n",
    "#    elif (test[\"Age\"] > 6) & (test[\"Age\"] <= 12 ):\n",
    "#        return \"Terza infanzia\"\n",
    "#    elif (test[\"Age\"] > 12) & (test[\"Age\"] <= 22):\n",
    "#        return \"Adolescenza\"\n",
    "#    elif (test[\"Age\"] > 22) & (test[\"Age\"] <= 39):\n",
    "#        return \"Prima età adulta\"\n",
    "#    elif (test[\"Age\"] > 39) & (test[\"Age\"] <= 59):\n",
    "#        return \"Seconda età adulta\"\n",
    "#    elif (test[\"Age\"] > 59) & (test[\"Age\"] <= 75):\n",
    "#        return \"Terza età\"\n",
    "#    elif (test[\"Age\"] > 75) & (test[\"Age\"] <= 90):\n",
    "#        return \"Quarta età\"\n",
    "#    elif test[\"Age\"] > 90:\n",
    "#        return \"Quinta età\"\n",
    "#test[\"AgeGroup\"] = test.apply(lambda test:age_div_test(test),axis = 1)"
   ]
  },
  {
   "cell_type": "code",
   "execution_count": null,
   "metadata": {},
   "outputs": [],
   "source": [
    "# Drop Age\n",
    "#train.drop(['Age'], axis=1, inplace=True)\n",
    "#test.drop(['Age'], axis=1, inplace=True)"
   ]
  },
  {
   "cell_type": "code",
   "execution_count": null,
   "metadata": {},
   "outputs": [],
   "source": [
    "# Encoding train\n",
    "labelEcnoder = LabelEncoder()\n",
    "train['Gender'] = labelEcnoder.fit_transform(train['Gender'])\n",
    "train['Neighbourhood'] = labelEcnoder.fit_transform(train['Neighbourhood'])\n",
    "train['WeekDayOfSchedule'] = labelEcnoder.fit_transform(train['WeekDayOfSchedule'])\n",
    "train['WeekDayOfAppointment'] = labelEcnoder.fit_transform(train['WeekDayOfAppointment'])\n",
    "train['No-show'] = labelEcnoder.fit_transform(train['No-show'])\n",
    "\n",
    "#train['AgeGroup'] = labelEcnoder.fit_transform(train['AgeGroup'])"
   ]
  },
  {
   "cell_type": "code",
   "execution_count": null,
   "metadata": {},
   "outputs": [],
   "source": [
    "# Encoding test\n",
    "labelEcnoder = LabelEncoder()\n",
    "test['Gender'] = labelEcnoder.fit_transform(test['Gender'])\n",
    "test['Neighbourhood'] = labelEcnoder.fit_transform(test['Neighbourhood'])\n",
    "test['WeekDayOfSchedule'] = labelEcnoder.fit_transform(test['WeekDayOfSchedule'])\n",
    "test['WeekDayOfAppointment'] = labelEcnoder.fit_transform(test['WeekDayOfAppointment'])\n",
    "test['No-show'] = labelEcnoder.fit_transform(test['No-show'])\n",
    "\n",
    "#test['AgeGroup'] = labelEcnoder.fit_transform(test['AgeGroup'])"
   ]
  },
  {
   "cell_type": "code",
   "execution_count": null,
   "metadata": {},
   "outputs": [],
   "source": [
    "# Split in dipendent and indipendent variables\n",
    "X_train = train.drop(['No-show'], axis=1)\n",
    "y_train = train['No-show']\n",
    "X_test = test.drop(['No-show'], axis=1)\n",
    "y_test = test['No-show']"
   ]
  },
  {
   "cell_type": "markdown",
   "metadata": {},
   "source": [
    "# Random Forest\n",
    "\n",
    "L'algoritmo Random Forest sfrutta il \"bagging\" come metodo principale di ensamble, che rappresenta una tecnica semplice, ma potente, per combinare più previsioni di algoritmi di apprendimento automatico cosí da avere risultati più accurati rispetto al modello preso singolarmente. Come modello individuale il RF si avvale dell'albero decisionale e in effetti una \"random forest\" combina più alberi decisionali in un unico modello, cosí da avere delle previsioni che in media si avvicinano più al risultato. Il risultato finale restituito da questo algoritmo varia in base al suo utilizzo: se si tratta di un problema di regressione, il risultato è la media del risultato numerico restituito dai diversi alberi, se invece si tratta di un problema di classificazione, sarà la classe restituita dal maggior numero di alberi.\n",
    "Intuitivamente il RF non è altro che un approccio molto adottato nella vita reale, cioè il far affidamneto su più fonti diverse, una foresta (molte fonti) è meglio di un singolo albero (singola fonte)."
   ]
  },
  {
   "cell_type": "code",
   "execution_count": null,
   "metadata": {
    "scrolled": true
   },
   "outputs": [],
   "source": [
    "# Random Forest Classifier\n",
    "from sklearn.ensemble import RandomForestClassifier\n",
    "from sklearn.metrics import accuracy_score\n",
    "\n",
    "# n_estimators = number of trees\n",
    "# max_depth = maximum depth of the tree\n",
    "model = RandomForestClassifier(n_estimators=100, max_depth=14, random_state=0)\n",
    "model.fit(X_train, y_train)\n",
    "y_pred = model.predict(X_test)\n",
    "print('Using Random Forest we have an accuracy of', np.mean((y_pred==y_test)*100) ,'%')"
   ]
  },
  {
   "cell_type": "code",
   "execution_count": null,
   "metadata": {},
   "outputs": [],
   "source": [
    "# Importance features graph\n",
    "(pd.Series(model.feature_importances_, index=X_train.columns).nlargest(18).plot(kind='barh'))"
   ]
  }
 ],
 "metadata": {
  "kernelspec": {
   "display_name": "Python 3",
   "language": "python",
   "name": "python3"
  },
  "language_info": {
   "codemirror_mode": {
    "name": "ipython",
    "version": 3
   },
   "file_extension": ".py",
   "mimetype": "text/x-python",
   "name": "python",
   "nbconvert_exporter": "python",
   "pygments_lexer": "ipython3",
   "version": "3.7.6"
  }
 },
 "nbformat": 4,
 "nbformat_minor": 4
}
